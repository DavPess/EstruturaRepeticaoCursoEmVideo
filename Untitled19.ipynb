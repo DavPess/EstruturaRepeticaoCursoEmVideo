{
  "nbformat": 4,
  "nbformat_minor": 0,
  "metadata": {
    "colab": {
      "provenance": [],
      "authorship_tag": "ABX9TyMy31JFyNjbvaTnO2xJEGVp",
      "include_colab_link": true
    },
    "kernelspec": {
      "name": "python3",
      "display_name": "Python 3"
    },
    "language_info": {
      "name": "python"
    }
  },
  "cells": [
    {
      "cell_type": "markdown",
      "metadata": {
        "id": "view-in-github",
        "colab_type": "text"
      },
      "source": [
        "<a href=\"https://colab.research.google.com/github/DavPess/EstruturaRepeticaoCursoEmVideo/blob/main/Untitled19.ipynb\" target=\"_parent\"><img src=\"https://colab.research.google.com/assets/colab-badge.svg\" alt=\"Open In Colab\"/></a>"
      ]
    },
    {
      "cell_type": "code",
      "execution_count": null,
      "metadata": {
        "id": "KtqrjTO0EdW8"
      },
      "outputs": [],
      "source": [
        "#ESTRUTURA DE REPETIÇÃO FOR GUANABARA \n",
        "d = int(input(\"Digite um numero: \"))\n",
        "for i in range(1, d+1):\n",
        "  #d = str(\"Oi, muito prazer!\")\n",
        "  print(i)"
      ]
    },
    {
      "cell_type": "code",
      "source": [
        "i = int(input(\"Inicio: \")) #inicio\n",
        "f = int(input(\"Fim: \")) #Fim\n",
        "p = i = int(input(\"Passo: \")) #Passo\n",
        "\n",
        "for c in range(i, f+1, p):  #Pode utilizar variaveis dentro dos parametros. \n",
        "  print(c)\n",
        "print(\"FIM\")"
      ],
      "metadata": {
        "id": "eTEHqwJBPNRr"
      },
      "execution_count": null,
      "outputs": []
    },
    {
      "cell_type": "code",
      "source": [
        "for c in range(0, 3):\n",
        "  m = float(input(\"Diigite um valor: \"))\n",
        "  n = m*(c+1)                           #É possível utilizar o FOR para realizar calculos matematicos.\n",
        "print(\"Soma deu R${:.2f}\".format(n))"
      ],
      "metadata": {
        "id": "iIBk21mmQU80"
      },
      "execution_count": null,
      "outputs": []
    },
    {
      "cell_type": "code",
      "source": [
        "#046 Faça um programa que mostre na tela uma contagem regressiva para o estouro de fogos de artificio, indo de 10 até 0\n",
        "#Com uma pausa de 1 segundos entre eles. \n",
        "      #Nesse EX utiliza o import sleep, para dar pausas de 1 segundo   "
      ],
      "metadata": {
        "id": "87GNsa3_TaL_"
      },
      "execution_count": null,
      "outputs": []
    },
    {
      "cell_type": "code",
      "source": [
        "#047 Crie um programa que mostre todos os numeros pares que estão no intervalo entre 1 e 50 \n",
        "    #parametro (1, 50, 2)\n",
        "\n",
        "for i in range(1, 50):\n",
        "  if i % 2 == 0:\n",
        "    print(i)\n",
        "  \n"
      ],
      "metadata": {
        "id": "2UE5bpSwT5eZ"
      },
      "execution_count": null,
      "outputs": []
    },
    {
      "cell_type": "code",
      "source": [
        "#048 Faça um programa que calcule a soma entre todos os numeros impares que são muliplo de 3\n",
        "# E que se encontram no intervalo de 1 e 500\n",
        "      #parametros (1, 500, 3) divisivel por 3\n",
        "    "
      ],
      "metadata": {
        "id": "Ikuchd9pWhth"
      },
      "execution_count": null,
      "outputs": []
    },
    {
      "cell_type": "code",
      "source": [
        "#049 Refaça o desafio 009, mostrando a tabuada de um numero que o usuário escolha o numero, só que agora utilizando o laço FOR"
      ],
      "metadata": {
        "id": "xLc_SD93W9yA"
      },
      "execution_count": null,
      "outputs": []
    },
    {
      "cell_type": "code",
      "source": [
        "#050 Desenvolva um programa que leia seus números inteiros e mostre a soma apenas daqueles que forem pares. Se o valor digitado\n",
        "#For ímpar, desconsidere-o "
      ],
      "metadata": {
        "id": "EF3w923-XJdw"
      },
      "execution_count": null,
      "outputs": []
    },
    {
      "cell_type": "code",
      "source": [
        "#051 Desenvolva um programa que leia o primeiro termo\n",
        "#E a razão de uma PA. No final, mostre os 10 primeiros termos dessa progressão."
      ],
      "metadata": {
        "id": "DMgUPsrTYB7y"
      },
      "execution_count": null,
      "outputs": []
    },
    {
      "cell_type": "code",
      "source": [
        "#052 Faça um programa que leia um numero inteiro e diga se ele é primo ou não."
      ],
      "metadata": {
        "id": "yfJDBcLQYVcF"
      },
      "execution_count": null,
      "outputs": []
    },
    {
      "cell_type": "code",
      "source": [
        "#053 Crie um programa que leia uma frase qualquer e diga se ela é um palíndromo, desconsiderando os espaços.\n",
        "        #Palíndromo são palavras que dão para ler de trás para frente e não muda o significado."
      ],
      "metadata": {
        "id": "JJ8Xotc0Yiut"
      },
      "execution_count": null,
      "outputs": []
    },
    {
      "cell_type": "code",
      "source": [
        "#054 Crie um programa que leia o ano de nascimento de sete pessoas.\n",
        "#No final, mostre quantas pessoas ainda não atigiram a maioridade e quantas já são maiores."
      ],
      "metadata": {
        "id": "gaJqRpDrY1F6"
      },
      "execution_count": null,
      "outputs": []
    },
    {
      "cell_type": "code",
      "source": [
        "#055 Faça um progrma que leia o peso de cinco pessoa. No final, mostre qual foi o maior e menor peso lidos."
      ],
      "metadata": {
        "id": "aON7K4kkZeBO"
      },
      "execution_count": null,
      "outputs": []
    },
    {
      "cell_type": "code",
      "source": [
        "#056 Desenvolva um programa que leia o nome, idade e sexo de 4 pessoas. No final do programa, mostre: \n",
        "  #A média de idade do grupo;\n",
        "  #Qual é o nome do homem mais velho;\n",
        "  #Quantas mulheres tem menos de 21 anos."
      ],
      "metadata": {
        "id": "MKciTUIKZyJE"
      },
      "execution_count": null,
      "outputs": []
    },
    {
      "cell_type": "code",
      "source": [
        "#057 "
      ],
      "metadata": {
        "id": "aSo206ahaRw0"
      },
      "execution_count": null,
      "outputs": []
    }
  ]
}
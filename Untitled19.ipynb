{
  "nbformat": 4,
  "nbformat_minor": 0,
  "metadata": {
    "colab": {
      "provenance": [],
      "authorship_tag": "ABX9TyMDrptE10DXNxAcUFNB7YED",
      "include_colab_link": true
    },
    "kernelspec": {
      "name": "python3",
      "display_name": "Python 3"
    },
    "language_info": {
      "name": "python"
    }
  },
  "cells": [
    {
      "cell_type": "markdown",
      "metadata": {
        "id": "view-in-github",
        "colab_type": "text"
      },
      "source": [
        "<a href=\"https://colab.research.google.com/github/DavPess/EstruturaRepeticaoCursoEmVideo/blob/main/Untitled19.ipynb\" target=\"_parent\"><img src=\"https://colab.research.google.com/assets/colab-badge.svg\" alt=\"Open In Colab\"/></a>"
      ]
    },
    {
      "cell_type": "code",
      "execution_count": null,
      "metadata": {
        "id": "KtqrjTO0EdW8"
      },
      "outputs": [],
      "source": [
        "#ESTRUTURA DE REPETIÇÃO FOR GUANABARA \n",
        "d = int(input(\"Digite um numero: \"))\n",
        "for i in range(1, d+1):\n",
        "  #d = str(\"Oi, muito prazer!\")\n",
        "  print(i)"
      ]
    },
    {
      "cell_type": "code",
      "source": [
        "i = int(input(\"Inicio: \")) #inicio\n",
        "f = int(input(\"Fim: \")) #Fim\n",
        "p = i = int(input(\"Passo: \")) #Passo\n",
        "\n",
        "for c in range(i, f+1, p):  #Pode utilizar variaveis dentro dos parametros. \n",
        "  print(c)\n",
        "print(\"FIM\")"
      ],
      "metadata": {
        "id": "eTEHqwJBPNRr"
      },
      "execution_count": null,
      "outputs": []
    },
    {
      "cell_type": "code",
      "source": [
        "for c in range(0, 3):\n",
        "  m = float(input(\"Diigite um valor: \"))\n",
        "  n = m*(c+1)                           #É possível utilizar o FOR para realizar calculos matematicos.\n",
        "print(\"Soma deu R${:.2f}\".format(n))"
      ],
      "metadata": {
        "id": "iIBk21mmQU80"
      },
      "execution_count": null,
      "outputs": []
    },
    {
      "cell_type": "code",
      "source": [
        "#046 Faça um programa que mostre na tela uma contagem regressiva para o estouro de fogos de artificio, indo de 10 até 0\n",
        "#Com uma pausa de 1 segundos entre eles. \n",
        "      #Nesse EX utiliza o import sleep, para dar pausas de 1 segundo   \n",
        "\n",
        "from time import sleep\n",
        "for c in range(10, -1, -1):\n",
        "    print(c)\n",
        "    sleep(1)\n",
        "print(\"ACABOU!\")"
      ],
      "metadata": {
        "id": "87GNsa3_TaL_"
      },
      "execution_count": null,
      "outputs": []
    },
    {
      "cell_type": "code",
      "source": [
        "#047 Crie um programa que mostre todos os numeros pares que estão no intervalo entre 1 e 50 \n",
        "    #parametro (1, 50, 2)\n",
        "\n",
        "for i in range(1, 51):\n",
        "  if i % 2 == 0:\n",
        "    print(i)\n",
        "  \n"
      ],
      "metadata": {
        "id": "2UE5bpSwT5eZ"
      },
      "execution_count": null,
      "outputs": []
    },
    {
      "cell_type": "code",
      "source": [
        "#048 Faça um programa que calcule a soma entre todos os numeros impares que são muliplo de 3\n",
        "# E que se encontram no intervalo de 1 e 500\n",
        "      #parametros (1, 500, 3) divisivel por 3\n",
        "soma = 0\n",
        "for c in range(1, 501, 2):\n",
        "  if c % 3 == 0:\n",
        "    soma = c + soma\n",
        "print(soma)\n",
        "\n",
        "\n",
        "  "
      ],
      "metadata": {
        "id": "Ikuchd9pWhth"
      },
      "execution_count": null,
      "outputs": []
    },
    {
      "cell_type": "code",
      "source": [
        "#049 Refaça o desafio 009, mostrando a tabuada de um numero que o usuário escolha o numero, só que agora utilizando o laço FOR\n",
        "n = int(input(\"Digite um numero: \"))\n",
        "t = 0\n",
        "for i in range(0, 11, 1):\n",
        "  t = n * i\n",
        "  print(\"{} x {} = {}\".format(n, i, t))\n",
        "\n",
        " "
      ],
      "metadata": {
        "id": "xLc_SD93W9yA"
      },
      "execution_count": null,
      "outputs": []
    },
    {
      "cell_type": "code",
      "source": [
        "#050 Desenvolva um programa que leia seus números inteiros e mostre a soma apenas daqueles que forem pares. Se o valor digitado\n",
        "#For ímpar, desconsidere-o \n",
        "\n",
        "soma = 0\n",
        "cont = 0\n",
        "for c in range(1, 7):\n",
        "  i = int(input(\"Digite o {} valor: \".format(c)))\n",
        "  if i % 2 == 0:\n",
        "    soma = soma + i\n",
        "    cont = cont + 1\n",
        "print(\"Você me informou {} números PARES e a soma foi {}\".format(cont, soma))\n",
        "    "
      ],
      "metadata": {
        "id": "EF3w923-XJdw"
      },
      "execution_count": null,
      "outputs": []
    },
    {
      "cell_type": "code",
      "source": [
        "#051 Desenvolva um programa que leia o primeiro termo\n",
        "#E a razão de uma PA. No final, mostre os 10 primeiros termos dessa progressão.\n",
        "\n",
        "primeiro = int(input(\"Primeiro termo: \"))\n",
        "razao = int(input(\"Razão: \"))\n",
        "decimo = primeiro + (10 - 1) * razao\n",
        "for c in range(primeiro, decimo + razao, razao):\n",
        "  print('{} '.format(c), end='-> ')\n",
        "print(\"ACABOU\")"
      ],
      "metadata": {
        "id": "DMgUPsrTYB7y"
      },
      "execution_count": null,
      "outputs": []
    },
    {
      "cell_type": "code",
      "source": [
        "#052 Faça um programa que leia um numero inteiro e diga se ele é primo ou não.\n",
        "\n",
        "num = int(input(\"Digite um numero: \"))\n",
        "\n",
        "for c in range(1, num + 1):\n",
        "  if num % c == 0:\n",
        "    print('\\033[34m', end='')\n",
        "  else:\n",
        "    print('\\033[33m', end='')  \n",
        "  print('{}'.format(c), end=' ')\n",
        "    \n",
        "\n"
      ],
      "metadata": {
        "id": "yfJDBcLQYVcF"
      },
      "execution_count": null,
      "outputs": []
    },
    {
      "cell_type": "code",
      "source": [
        "#053 Crie um programa que leia uma frase qualquer e diga se ela é um palíndromo, desconsiderando os espaços.\n",
        "        #Palíndromo são palavras que dão para ler de trás para frente e não muda o significado.\n",
        "\n",
        "frase = str(input(\"Digite uma frase: \")).strip().upper()\n",
        "palavras = frase.split()\n",
        "junto = ''.join(palavras)\n",
        "inverso = ''\n",
        "for letra in range(len(junto) - 1, -1, -1):\n",
        "  inverso += junto[letra]\n",
        "if inverso == junto:\n",
        "  print(\"Temos um palíndromo!\")\n",
        "else:\n",
        "  print(\"A frase digitada não é um palídromo!\")"
      ],
      "metadata": {
        "id": "JJ8Xotc0Yiut"
      },
      "execution_count": null,
      "outputs": []
    },
    {
      "cell_type": "code",
      "source": [
        "#054 Crie um programa que leia o ano de nascimento de sete pessoas.\n",
        "#No final, mostre quantas pessoas ainda não atigiram a maioridade e quantas já são maiores.\n",
        "from datetime import date\n",
        "atual = date.today().year\n",
        "totmaior = 0\n",
        "totmenor = 0\n",
        "for pess in range(1, 8):\n",
        "  nasc = int(input(\"Em que ano a {}º pessoa nasceu? \".format(pess)))\n",
        "  idade = atual - nasc\n",
        "  if idade >= 21:\n",
        "    totmaior += 1  \n",
        "  else:\n",
        "    totmenor += 1\n",
        "print(\"Ao todo tivemos {} pessoas maiores de idade\".format(totmaior))\n",
        "print(\"Ao todo tivemos {} pessoas menores de idade\".format(totmenor))\n"
      ],
      "metadata": {
        "id": "gaJqRpDrY1F6"
      },
      "execution_count": null,
      "outputs": []
    },
    {
      "cell_type": "code",
      "source": [
        "#055 Faça um progrma que leia o peso de cinco pessoa. No final, mostre qual foi o maior e menor peso lidos.\n",
        "\n",
        "maior = 0\n",
        "menor = 0\n",
        "for p in range(1, 6):\n",
        "  peso = float(input(\"Peso da {}° pessoa: \".format(p)))\n",
        "  if p == 1:\n",
        "    maior = peso\n",
        "    menor = peso\n",
        "  else:\n",
        "    if peso > maior:\n",
        "      maior = peso\n",
        "    if peso < menor:\n",
        "      menor = peso\n",
        "print('O maior peso lido foi de {}kg'.format(maior))\n",
        "print('O menor peso lido foi de {}kg'.format(menor))"
      ],
      "metadata": {
        "id": "aON7K4kkZeBO"
      },
      "execution_count": null,
      "outputs": []
    },
    {
      "cell_type": "code",
      "source": [
        "#056 Desenvolva um programa que leia o nome, idade e sexo de 4 pessoas. No final do programa, mostre: \n",
        "  #A média de idade do grupo;\n",
        "  #Qual é o nome do homem mais velho;\n",
        "  #Quantas mulheres tem menos de 21 anos.\n",
        "\n",
        "somaidade = 0\n",
        "mediaidade = 0\n",
        "maioridadehomem = 0\n",
        "nomevelho = ''\n",
        "totmulher20 = 0\n",
        "for p in range(1, 5):\n",
        "  print(\"---- {}º ----\".format(p))\n",
        "  nome = str(input(\"Nome: \")).strip()\n",
        "  idade = int(input('Idade: '))\n",
        "  sexo = str(input(\"Sexo [M/F]: \")).strip()\n",
        "  somaidade += idade\n",
        "  if p == 1 and sexo in 'Mm':\n",
        "    maioridadehomem = idade\n",
        "    nomevelho = nome\n",
        "  if sexo in 'Mm' and idade > maioridadehomem:\n",
        "    maioridadehomem = idade\n",
        "    nomevelho = nome\n",
        "  if sexo in \"Ff\" and idade < 20:\n",
        "    totmulher20 +=1\n",
        "mediaidade = somaidade / 4\n",
        "print(\"A média de idade do grupo é de {:0f} anos\".format(mediaidade))\n",
        "print(\"O homem mais velho tem {} anos e se chama {}.\".format(maioridadehomem, nomevelho))\n",
        "print(\"Ao todo são {} mulheres com menos de 20 anos\".format(totmulher20))1"
      ],
      "metadata": {
        "id": "MKciTUIKZyJE"
      },
      "execution_count": null,
      "outputs": []
    }
  ]
}
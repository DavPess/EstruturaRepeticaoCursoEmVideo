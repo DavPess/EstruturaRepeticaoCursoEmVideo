{
  "nbformat": 4,
  "nbformat_minor": 0,
  "metadata": {
    "colab": {
      "provenance": [],
      "authorship_tag": "ABX9TyO9CwZq4uv1S+pNRVrndRFX",
      "include_colab_link": true
    },
    "kernelspec": {
      "name": "python3",
      "display_name": "Python 3"
    },
    "language_info": {
      "name": "python"
    }
  },
  "cells": [
    {
      "cell_type": "markdown",
      "metadata": {
        "id": "view-in-github",
        "colab_type": "text"
      },
      "source": [
        "<a href=\"https://colab.research.google.com/github/DavPess/EstruturaRepeticaoCursoEmVideo/blob/main/Untitled23.ipynb\" target=\"_parent\"><img src=\"https://colab.research.google.com/assets/colab-badge.svg\" alt=\"Open In Colab\"/></a>"
      ]
    },
    {
      "cell_type": "code",
      "execution_count": null,
      "metadata": {
        "id": "NsJAI-iDeKFl"
      },
      "outputs": [],
      "source": [
        " #WHILE CURSO EM VIDEO\n",
        "#057 Faça um programa que leia o sexo de uma pessoa, mas só aceite os valores 'M' ou 'F'.\n",
        "#Caso esteja errado, peça a digitação novamente até ter um valor correto.\n",
        "\n",
        "sexo = str(input(\"Digite seu sexo: \")).upper()[0].strip()\n",
        "\n",
        "#Para fazer comparação com while, pode utilizar o not in \"Enquanto não está // Enquanto não é\"\n",
        "while sexo not in 'MmFf':\n",
        "  sexo = str(input(\"Dados inválidos. Por favor, informe novamente: \")).strip().upper()[0]\n",
        "print('Sexo {} registrado com sucesso'.format(sexo))\n"
      ]
    },
    {
      "cell_type": "code",
      "source": [
        "#058 Melhore o desafio 028 onde o computador vai pensar em um numero entr 0 e 10. Só que agora o jogador vai tentar adivinhar acertar,\n",
        "#mostrando no final quantos palpites foram necessários para vencer.\n",
        "\n",
        "from random import randint\n",
        "computador = randint(0, 10)\n",
        "print(\"Vou pensar em um número de 0 e 10. Tente adivinhar...\")\n",
        "print(\"Será que você conseguiu adivinhar qual foi? \")\n",
        "acertou = False\n",
        "palpites = 0\n",
        "while not acertou:\n",
        "   jogador = int(input(\"Qual é seu palpite? \"))\n",
        "   palpites +=1\n",
        "   if jogador == computador:\n",
        "    acertou = True\n",
        "   else:\n",
        "    if jogador < computador:\n",
        "      print(\"Mais... Tente mais uma vez.\")\n",
        "    elif jogador > computador:\n",
        "      print(\"Menos... Tente mais uma vez.\")\n",
        "print(\"Acertou com {} tentativas, parabéns!\".format(palpites))\n",
        "\n",
        "\n"
      ],
      "metadata": {
        "id": "jGk1w299i4Lo"
      },
      "execution_count": null,
      "outputs": []
    },
    {
      "cell_type": "code",
      "source": [
        "#059 Crie um programa que leia dois valores e mostre um menu na tela:\n",
        "\n",
        "#[1]somar\n",
        "#[2]multiplicar\n",
        "#[3]maior\n",
        "#[4]novos numeros\n",
        "#[5]sair do programa\n",
        "\n",
        "#Seu programa deverá a operação solicitada em cada caso.\n",
        "from time import sleep\n",
        "valor1 = int(input(\"Qual o primeiro valor: \"))\n",
        "valor2 = int(input(\"Qual o segundo valor: \"))\n",
        "opcao = 0\n",
        "while opcao != 5:\n",
        "  print('''\n",
        "[1] Somar\n",
        "[2] Multiplicar\n",
        "[3] Maior\n",
        "[4] Novos numeros\n",
        "[5] Sair do programa\n",
        "''')\n",
        "\n",
        "  opcao = int(input(\"Sua opção: \"))\n",
        "\n",
        "  if opcao == 1:\n",
        "    soma = valor1 + valor2\n",
        "    print(\"A soma do valor {} + {} é de {}\".format(valor1, valor2, soma))\n",
        "  elif opcao == 2:\n",
        "    mult = valor1 * valor2\n",
        "    print(\"A multiplicação do valor {} x {} é de {}\".format(valor1, valor2, mult))\n",
        "  elif opcao == 3:\n",
        "    if valor1 > valor2:\n",
        "      maior = valor1\n",
        "    else:\n",
        "      maior = valor2\n",
        "    print(\"Entre {} e {} o maior valor é {}\".format(valor1, valor2, maior))\n",
        "  elif opcao == 4:\n",
        "    print(\"Informe is números novamente: \")\n",
        "    valor1 = int(input(\"Primeiro numero: \"))\n",
        "    valor2 = int(input(\"Segundo numero: \"))\n",
        "  elif opcao == 5:\n",
        "    print(\"Finalizando...\")\n",
        "    sleep(2)\n",
        "  else:\n",
        "    print(\"Opção inválida. Tente novamente\")"
      ],
      "metadata": {
        "id": "4GLCUU4kjRAl"
      },
      "execution_count": null,
      "outputs": []
    },
    {
      "cell_type": "code",
      "source": [
        "#060 Faça um programa que leia um numero qualquer e mostre o seu fatorial.\n",
        "#ex 5!= 5x4x3x2x1 = 120\n",
        "\n",
        "#Dá para resolver usando import\n",
        "\n",
        "  #Modo com imports\n",
        "# from math import factorial\n",
        "# n = int(input(\"Digite um numero: \"))\n",
        "# f = factorial(N)\n",
        "# print(\"O fatorial de {} é {}\".format(n, f))\n",
        "\n",
        "n = int(input(\"Digite um numero para calcular seu Fatorial: \"))\n",
        "c = n\n",
        "f = 1\n",
        "print(\"Calculando {}! = \".format(n), end='')\n",
        "while c > 0:\n",
        "  print(\"{}\".format(c), end='')\n",
        "  print(\" x \" if c > 1 else ' = ', end='')\n",
        "  f *= c\n",
        "  c -= 1\n",
        "print(\"O fatorial {}\".format(f))"
      ],
      "metadata": {
        "id": "slVvmbxlkBYN"
      },
      "execution_count": null,
      "outputs": []
    },
    {
      "cell_type": "code",
      "source": [
        "#061 Refaça o desafio 051, lendo o primeiro termo e a razão de um PA, mostrando os 10 primeiros termos da progressão usando a estrutura WHILE.\n",
        "\n",
        "primeiro = int(input(\"Primeiro termo: \"))\n",
        "razao = int(input(\"Razão da PA: \"))\n",
        "termo = primeiro\n",
        "cont = 1\n",
        "while cont <= 10:\n",
        "  print(\"{} -> \".format(termo), end='')\n",
        "  termo += razao\n",
        "  cont += 1\n",
        "print(\"FIM\")"
      ],
      "metadata": {
        "id": "ko_dULRekgNS"
      },
      "execution_count": null,
      "outputs": []
    },
    {
      "cell_type": "code",
      "source": [
        "#062 Melhore o desafio 061, perguntando para o usuário se ele quer mostrar mais termos.\n",
        "#O programa encerra quando ele disser que quer mostrar 0 termos.\n",
        "\n",
        "primeiro = int(input(\"Primeiro termo: \"))\n",
        "razao = int(input(\"Razão da PA: \"))\n",
        "termo = primeiro\n",
        "cont = 1\n",
        "total = 0\n",
        "mais = 10\n",
        "while mais != 0:\n",
        "  total = total + mais\n",
        "  while cont <= total:\n",
        "    print(\"{} -> \".format(termo), end='')\n",
        "    termo += razao\n",
        "    cont += 1\n",
        "  print(\"PAUSA\")\n",
        "  mais = int(input(\"Quantos termos você quer mostrar a mais? \"))\n",
        "print(\"FIM\")"
      ],
      "metadata": {
        "id": "JQ7v8M6zk13t"
      },
      "execution_count": null,
      "outputs": []
    },
    {
      "cell_type": "code",
      "source": [
        "#063 Escreva um programa que leia um numero n inteiro qualquer e mostre na tela os n primeiros elementos de uma sequencia de fibonacci.\n",
        "#ex 0 -> 1 -> 1 -> 2 -> 3 -> 5 -> 8\n",
        "\n",
        "n = int(input(\"Quantos termos você quer mostrar? \"))\n",
        "t1 = 0\n",
        "t2 = 1\n",
        "print(\"{} -> {}\".format(t1, t2), end='')\n",
        "cont = 3\n",
        "while cont <= n:\n",
        "  t3 = t1 + t2\n",
        "  print(\" -> {}\".format(t3), end='')\n",
        "  t1 = t2\n",
        "  t2 = t3\n",
        "  cont += 1\n",
        "print(\" -> Fim\")"
      ],
      "metadata": {
        "id": "ELrCK19glI-M"
      },
      "execution_count": null,
      "outputs": []
    },
    {
      "cell_type": "code",
      "source": [
        "#064 Crie um programa que leia varios numeros inteiros pelo teclado. O programa só vai parar quando o usuário digitar o valor 999\n",
        "# que é a condiçao de parada. No final, mostre quantos numeros foram digitados e qual foi a soma entre eles (desconsiderando o flag).\n",
        "num = cont = soma = 0\n",
        "num = int(input(\"Digite um número [999 para parar]: \"))\n",
        "while num != 999:\n",
        "  soma += num\n",
        "  cont += 1\n",
        "  num = int(input(\"Digite um número [999 para parar]: \"))\n",
        "print(\"Você digitou {} números e a soma entre eles foi {}\".format(cont, soma))"
      ],
      "metadata": {
        "id": "q79RPRxclhjU"
      },
      "execution_count": null,
      "outputs": []
    },
    {
      "cell_type": "code",
      "source": [
        "#065 Crie um programa que leia vários numeros inteiros pelo teclado. No final da execução, mostre a média entre todos os valores e qual foi o maior\n",
        "#e o menor valores lidos. O programa deve perguntar ao usuário se ele quer ou não continuar a digitar valores.\n",
        "\n",
        "resp = 'S'\n",
        "soma = quant = media = maior = menor = 0\n",
        "while resp in 'Ss':\n",
        "  num = int(input(\"Digite um número: \"))\n",
        "  soma += num\n",
        "  quant += 1\n",
        "  if quant == 1:\n",
        "    maior = menor = num\n",
        "  else:\n",
        "    if num > maior:\n",
        "      maior = num\n",
        "    if num < menor:\n",
        "      menor = num\n",
        "  resp = str(input(\"Quer continuar? [S/N] \")).upper().strip()[0]\n",
        "media = soma / quant\n",
        "print(\"Você digitou {} numeros e a média foi {}\".format(quant, media))\n",
        "print(\"O maior valor {} e o menor foi {}\".format(maior, menor))"
      ],
      "metadata": {
        "id": "jqCmkiKsmcsO"
      },
      "execution_count": null,
      "outputs": []
    },
    {
      "cell_type": "code",
      "source": [
        "#066 Crie um programa que leia vários números inteiros pelo teclado. O programa só vai parar quando o usuário digitar o valor\n",
        "# 999, que é o número de parada. No final, mostre quantos números foram digitados e qual foi a soma entre eles.\n",
        "\n",
        "s = cont = 0\n",
        "while True:\n",
        "  n = int(input(\"Digite um numero (999 para parar): \"))\n",
        "  if n == 999:\n",
        "    break\n",
        "  cont += 1\n",
        "  s += n\n",
        "print(f'A soma dos {cont} valores foi {s}!')"
      ],
      "metadata": {
        "id": "X42nf6sQm3tM",
        "colab": {
          "base_uri": "https://localhost:8080/"
        },
        "outputId": "df531e1c-0b2e-4446-8d20-8be8a1f0b2e3"
      },
      "execution_count": 73,
      "outputs": [
        {
          "output_type": "stream",
          "name": "stdout",
          "text": [
            "Digite um numero (999 para parar): 2\n",
            "Digite um numero (999 para parar): 4\n",
            "Digite um numero (999 para parar): 999\n",
            "A soma dos 2 valores foi 6!\n"
          ]
        }
      ]
    },
    {
      "cell_type": "code",
      "source": [
        "#067 Faça um programa que mostre a tabuada de vários números, um de cada vez, para cada valor digitado pelo usuário.\n",
        "#O programa será interrompido quando o numéro solicitado for negativo.\n",
        "\n",
        "n = 0\n",
        "tab = int(input(\"Digite um numero \"))\n",
        "\n",
        "while n < 10:\n",
        "  n += 1\n",
        "  m = tab * n\n",
        "  print(f'{tab} x {n} = {m}')\n"
      ],
      "metadata": {
        "id": "XNdJVzGERWEO"
      },
      "execution_count": null,
      "outputs": []
    },
    {
      "cell_type": "code",
      "source": [
        "#068 Faça um programa que jogue par ou ímpar com o computador. O jogo só será imterrompido quando o jogador PERDER, mostrando o total de vitórias\n",
        "#consecutivas que ele conquistou no final do jogo.\n",
        "\n"
      ],
      "metadata": {
        "id": "tJ578QoSXIdr"
      },
      "execution_count": null,
      "outputs": []
    },
    {
      "cell_type": "code",
      "source": [
        "#069 Crie um programa que leia a idade e o sexo de várias pessoas. A cada pessoa cadastrada, o programa deverá perguntar se o usuário quer ou nao continuar.\n",
        "#no final, mostre:\n",
        "# A) quantas pessoas tem mais de 18 anos.\n",
        "# B) quantos homens foram cadastrados.\n",
        "# C) quantas mulheres tem menos de 20 anos.\n",
        "\n",
        "h = 0\n",
        "cad = 0\n",
        "m = 0\n",
        "while True:\n",
        "  idade = int(input(\"Digite uma idade: \"))\n",
        "  sexo = str(input(\"Digite um sexo [M/F]: \")).upper()\n",
        "  if idade >= 18:\n",
        "    cad = idade\n",
        "  if sexo in 'Mm':\n",
        "    cad = sexo\n",
        "  if idade <= 20 and sexo in 'Ff':\n",
        "    cad = sexo\n",
        "  if idade == 999 and sexo in 'Ss':\n",
        "    break\n",
        "print(f'Total de pessoas com ')"
      ],
      "metadata": {
        "id": "ze_7OnKiVGRP"
      },
      "execution_count": null,
      "outputs": []
    },
    {
      "cell_type": "code",
      "source": [
        "#070  Crie um programa que leia o nome e o preço de vários produtos. O programa deverá perguntar se o usuário vai continuar.No final, mostre:\n",
        "# A) Qual é o total de gasto na compra\n",
        "# B) Quantos produtos custam mais de R$ 1000\n",
        "# C) Qual é nome do produto mais barato.\n",
        "gasto = 0\n",
        "cont = maior = 0\n",
        "while True:\n",
        "  produto = str(input(\"Nome do produto: \"))\n",
        "  preco = float(input(\"Preço do produto: \"))\n",
        "  u = str(input(\"Deseja continuar: [S/N] \"))\n",
        "  gasto += preco\n",
        "  if cont >= 1000:\n",
        "    print(f'Foram {maior} produtos mais de R$ 1000,00')\n",
        "\n",
        "  if u in 'Nn':\n",
        "    break\n",
        "print(f'O total de gasto foi de R${gasto}')\n",
        "\n",
        "print(\"Obrigado!\")"
      ],
      "metadata": {
        "id": "ddyeydD9f5kb"
      },
      "execution_count": null,
      "outputs": []
    },
    {
      "cell_type": "code",
      "source": [
        "#071 Crie um programa que simule o funcionamento de um caixa eletronico. No inicio, pergunte ao usuário qual será o valor a ser sacado(numero inteiro)\n",
        "#e o programa vai informar quantas cédulas de cada valor serão entregues.\n",
        "#obs: Considere que o caixa possui cédulas de R$50, R$20, R$10 e R$1."
      ],
      "metadata": {
        "id": "h8yNJA78rY0m"
      },
      "execution_count": null,
      "outputs": []
    }
  ]
}
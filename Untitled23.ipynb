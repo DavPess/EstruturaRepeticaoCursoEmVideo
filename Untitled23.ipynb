{
  "nbformat": 4,
  "nbformat_minor": 0,
  "metadata": {
    "colab": {
      "provenance": [],
      "authorship_tag": "ABX9TyMfMil3vhXiHRtUU5O1snmT",
      "include_colab_link": true
    },
    "kernelspec": {
      "name": "python3",
      "display_name": "Python 3"
    },
    "language_info": {
      "name": "python"
    }
  },
  "cells": [
    {
      "cell_type": "markdown",
      "metadata": {
        "id": "view-in-github",
        "colab_type": "text"
      },
      "source": [
        "<a href=\"https://colab.research.google.com/github/DavPess/EstruturaRepeticaoCursoEmVideo/blob/main/Untitled23.ipynb\" target=\"_parent\"><img src=\"https://colab.research.google.com/assets/colab-badge.svg\" alt=\"Open In Colab\"/></a>"
      ]
    },
    {
      "cell_type": "code",
      "execution_count": null,
      "metadata": {
        "id": "NsJAI-iDeKFl"
      },
      "outputs": [],
      "source": [
        " #WHILE CURSO EM VIDEO\n",
        "#057 Faça um programa que leia o sexo de uma pessoa, mas só aceite os valores 'M' ou 'F'.\n",
        "#Caso esteja errado, peça a digitação novamente até ter um valor correto."
      ]
    },
    {
      "cell_type": "code",
      "source": [
        "#058 Melhore o desafio 028 onde o computador vai pensar em um numero entr 0 e 10. Só que agora o jogador vai tentar adivinhar acertar,\n",
        "#mostrando no final quantos palpites foram necessários para vencer."
      ],
      "metadata": {
        "id": "jGk1w299i4Lo"
      },
      "execution_count": null,
      "outputs": []
    },
    {
      "cell_type": "code",
      "source": [
        "#059 Crie um programa que leia dois valores e mostre um menu na tela:\n",
        "\n",
        "#[1]somar\n",
        "#[2]multiplicar\n",
        "#[3]maior\n",
        "#[4]novos numeros\n",
        "#[5]sair do programa\n",
        "\n",
        "#Seu programa deverá a operação solicitada em cada caso."
      ],
      "metadata": {
        "id": "4GLCUU4kjRAl"
      },
      "execution_count": null,
      "outputs": []
    },
    {
      "cell_type": "code",
      "source": [
        "#060 Faça um programa que leia um numero qualquer e mostre o seu fatorial.\n",
        "#ex 5!= 5x4x3x2x1 = 120"
      ],
      "metadata": {
        "id": "slVvmbxlkBYN"
      },
      "execution_count": null,
      "outputs": []
    },
    {
      "cell_type": "code",
      "source": [
        "#061 Refaça o desafio 051, lendo o primeiro termo e a razão de um PA, mostrando os 10 primeiros termos da progressão usando a estrutura WHILE."
      ],
      "metadata": {
        "id": "ko_dULRekgNS"
      },
      "execution_count": null,
      "outputs": []
    },
    {
      "cell_type": "code",
      "source": [
        "#062 Melhore o desafio 061, perguntando para o usuário se ele quer mostrar mais termos.\n",
        "#O programa encerra quando ele disser que quer mostrar 0 termos."
      ],
      "metadata": {
        "id": "JQ7v8M6zk13t"
      },
      "execution_count": null,
      "outputs": []
    },
    {
      "cell_type": "code",
      "source": [
        "#063 Escreva um programa que leia um numero n inteiro qualauqer e mostre na tela os n primeiros elementos de uma sequencia de fibonacci.\n",
        "#ex 0 -> 1 -> 1 -> 2 -> 3 -> 5 -> 8"
      ],
      "metadata": {
        "id": "ELrCK19glI-M"
      },
      "execution_count": null,
      "outputs": []
    },
    {
      "cell_type": "code",
      "source": [
        "#064 Crie um programa que leia varios numeros inteiros pelo teclado. O programa só vai parar quando o usuário digitar o valor 999\n",
        "# que é a condiçao de parada. No final, mostre quantos numeros foram digitados e qual foi a soma entre eles (desconsiderando o flag)."
      ],
      "metadata": {
        "id": "q79RPRxclhjU"
      },
      "execution_count": null,
      "outputs": []
    },
    {
      "cell_type": "code",
      "source": [
        "#065 Crie um programa que leia vários numeros inteiros pelo teclado. No final da execução, mostre a média entre todos os valores e qual foi o maior\n",
        "#e o menor valores lidos. O programa deve perguntar ao usuário se ele quer ou não continuar a digitar valores."
      ],
      "metadata": {
        "id": "jqCmkiKsmcsO"
      },
      "execution_count": null,
      "outputs": []
    },
    {
      "cell_type": "code",
      "source": [],
      "metadata": {
        "id": "X42nf6sQm3tM"
      },
      "execution_count": null,
      "outputs": []
    }
  ]
}
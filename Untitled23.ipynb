{
  "nbformat": 4,
  "nbformat_minor": 0,
  "metadata": {
    "colab": {
      "provenance": [],
      "authorship_tag": "ABX9TyODdIPYByuilMEHcT5A1vB2",
      "include_colab_link": true
    },
    "kernelspec": {
      "name": "python3",
      "display_name": "Python 3"
    },
    "language_info": {
      "name": "python"
    }
  },
  "cells": [
    {
      "cell_type": "markdown",
      "metadata": {
        "id": "view-in-github",
        "colab_type": "text"
      },
      "source": [
        "<a href=\"https://colab.research.google.com/github/DavPess/EstruturaRepeticaoCursoEmVideo/blob/main/Untitled23.ipynb\" target=\"_parent\"><img src=\"https://colab.research.google.com/assets/colab-badge.svg\" alt=\"Open In Colab\"/></a>"
      ]
    },
    {
      "cell_type": "code",
      "execution_count": null,
      "metadata": {
        "id": "NsJAI-iDeKFl"
      },
      "outputs": [],
      "source": [
        " #WHILE CURSO EM VIDEO\n",
        "#057 Faça um programa que leia o sexo de uma pessoa, mas só aceite os valores 'M' ou 'F'.\n",
        "#Caso esteja errado, peça a digitação novamente até ter um valor correto.\n",
        "\n",
        "sexo = str(input(\"Digite seu sexo: \")).upper()[0].strip()\n",
        "\n",
        "#Para fazer comparação com while, pode utilizar o not in \"Enquanto não está // Enquanto não é\"\n",
        "while sexo not in 'MmFf':\n",
        "  sexo = str(input(\"Dados inválidos. Por favor, informe novamente: \")).strip().upper()[0]\n",
        "print('Sexo {} registrado com sucesso'.format(sexo)) \n",
        " "
      ]
    },
    {
      "cell_type": "code",
      "source": [
        "#058 Melhore o desafio 028 onde o computador vai pensar em um numero entr 0 e 10. Só que agora o jogador vai tentar adivinhar acertar,\n",
        "#mostrando no final quantos palpites foram necessários para vencer.\n",
        "\n",
        "from random import randint\n",
        "computador = randint(0, 10)\n",
        "print(\"Vou pensar em um número de 0 e 10. Tente adivinhar...\")\n",
        "print(\"Será que você conseguiu adivinhar qual foi? \")\n",
        "acertou = False\n",
        "palpites = 0\n",
        "while not acertou:\n",
        "   jogador = int(input(\"Qual é seu palpite? \"))\n",
        "   palpites +=1\n",
        "   if jogador == computador:\n",
        "    acertou = True\n",
        "   else:\n",
        "    if jogador < computador:\n",
        "      print(\"Mais... Tente mais uma vez.\")  \n",
        "    elif jogador > computador:\n",
        "      print(\"Menos... Tente mais uma vez.\")\n",
        "print(\"Acertou com {} tentativas, parabéns!\".format(palpites))\n",
        "  \n",
        "  \n"
      ],
      "metadata": {
        "id": "jGk1w299i4Lo"
      },
      "execution_count": null,
      "outputs": []
    },
    {
      "cell_type": "code",
      "source": [
        "#059 Crie um programa que leia dois valores e mostre um menu na tela:\n",
        "\n",
        "#[1]somar\n",
        "#[2]multiplicar\n",
        "#[3]maior\n",
        "#[4]novos numeros\n",
        "#[5]sair do programa\n",
        "\n",
        "#Seu programa deverá a operação solicitada em cada caso.\n",
        "from time import sleep\n",
        "valor1 = int(input(\"Qual o primeiro valor: \"))\n",
        "valor2 = int(input(\"Qual o segundo valor: \"))\n",
        "opcao = 0\n",
        "while opcao != 5:\n",
        "  print('''\n",
        "[1] Somar\n",
        "[2] Multiplicar\n",
        "[3] Maior\n",
        "[4] Novos numeros\n",
        "[5] Sair do programa\n",
        "''')\n",
        "\n",
        "  opcao = int(input(\"Sua opção: \"))\n",
        "      \n",
        "  if opcao == 1:\n",
        "    soma = valor1 + valor2\n",
        "    print(\"A soma do valor {} + {} é de {}\".format(valor1, valor2, soma))\n",
        "  elif opcao == 2:\n",
        "    mult = valor1 * valor2\n",
        "    print(\"A multiplicação do valor {} x {} é de {}\".format(valor1, valor2, mult))\n",
        "  elif opcao == 3:\n",
        "    if valor1 > valor2:\n",
        "      maior = valor1\n",
        "    else:\n",
        "      maior = valor2\n",
        "    print(\"Entre {} e {} o maior valor é {}\".format(valor1, valor2, maior))\n",
        "  elif opcao == 4:\n",
        "    print(\"Informe is números novamente: \")\n",
        "    valor1 = int(input(\"Primeiro numero: \"))\n",
        "    valor2 = int(input(\"Segundo numero: \"))\n",
        "  elif opcao == 5:\n",
        "    print(\"Finalizando...\")\n",
        "    sleep(2)\n",
        "  else:\n",
        "    print(\"Opção inválida. Tente novamente\")"
      ],
      "metadata": {
        "id": "4GLCUU4kjRAl"
      },
      "execution_count": null,
      "outputs": []
    },
    {
      "cell_type": "code",
      "source": [
        "#060 Faça um programa que leia um numero qualquer e mostre o seu fatorial.\n",
        "#ex 5!= 5x4x3x2x1 = 120\n",
        "\n",
        "#Dá para resolver usando import\n",
        "\n",
        "  #Modo com imports\n",
        "# from math import factorial \n",
        "# n = int(input(\"Digite um numero: \"))\n",
        "# f = factorial(N)\n",
        "# print(\"O fatorial de {} é {}\".format(n, f))\n",
        "\n",
        "n = int(input(\"Digite um numero para calcular seu Fatorial: \"))\n",
        "c = n \n",
        "f = 1\n",
        "print(\"Calculando {}! = \".format(n), end='')\n",
        "while c > 0:\n",
        "  print(\"{}\".format(c), end='')\n",
        "  print(\" x \" if c > 1 else ' = ', end='')\n",
        "  f *= c\n",
        "  c -= 1\n",
        "print(\"O fatorial {}\".format(f))"
      ],
      "metadata": {
        "id": "slVvmbxlkBYN"
      },
      "execution_count": null,
      "outputs": []
    },
    {
      "cell_type": "code",
      "source": [
        "#061 Refaça o desafio 051, lendo o primeiro termo e a razão de um PA, mostrando os 10 primeiros termos da progressão usando a estrutura WHILE."
      ],
      "metadata": {
        "id": "ko_dULRekgNS"
      },
      "execution_count": null,
      "outputs": []
    },
    {
      "cell_type": "code",
      "source": [
        "#062 Melhore o desafio 061, perguntando para o usuário se ele quer mostrar mais termos.\n",
        "#O programa encerra quando ele disser que quer mostrar 0 termos."
      ],
      "metadata": {
        "id": "JQ7v8M6zk13t"
      },
      "execution_count": null,
      "outputs": []
    },
    {
      "cell_type": "code",
      "source": [
        "#063 Escreva um programa que leia um numero n inteiro qualauqer e mostre na tela os n primeiros elementos de uma sequencia de fibonacci.\n",
        "#ex 0 -> 1 -> 1 -> 2 -> 3 -> 5 -> 8"
      ],
      "metadata": {
        "id": "ELrCK19glI-M"
      },
      "execution_count": null,
      "outputs": []
    },
    {
      "cell_type": "code",
      "source": [
        "#064 Crie um programa que leia varios numeros inteiros pelo teclado. O programa só vai parar quando o usuário digitar o valor 999\n",
        "# que é a condiçao de parada. No final, mostre quantos numeros foram digitados e qual foi a soma entre eles (desconsiderando o flag)."
      ],
      "metadata": {
        "id": "q79RPRxclhjU"
      },
      "execution_count": null,
      "outputs": []
    },
    {
      "cell_type": "code",
      "source": [
        "#065 Crie um programa que leia vários numeros inteiros pelo teclado. No final da execução, mostre a média entre todos os valores e qual foi o maior\n",
        "#e o menor valores lidos. O programa deve perguntar ao usuário se ele quer ou não continuar a digitar valores."
      ],
      "metadata": {
        "id": "jqCmkiKsmcsO"
      },
      "execution_count": null,
      "outputs": []
    },
    {
      "cell_type": "code",
      "source": [],
      "metadata": {
        "id": "X42nf6sQm3tM"
      },
      "execution_count": null,
      "outputs": []
    }
  ]
}